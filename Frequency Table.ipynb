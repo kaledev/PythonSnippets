{
 "cells": [
  {
   "cell_type": "markdown",
   "metadata": {},
   "source": [
    "### Simple Frequency Table Code\n",
    "Takes a list (sample), separates them by bins, and gives a frequency table with histogram"
   ]
  },
  {
   "cell_type": "code",
   "execution_count": 1,
   "metadata": {},
   "outputs": [],
   "source": [
    "#Imports\n",
    "import pandas as pd\n",
    "import seaborn as sns"
   ]
  },
  {
   "cell_type": "code",
   "execution_count": 2,
   "metadata": {},
   "outputs": [],
   "source": [
    "#Give list\n",
    "sample = [10, 15, 12, 17, 22, 14, 23, 8, 15, 11, 17, 12, 16, 26, 12, 11, 9, 16, 15, 24, 12, 17, 16, 14, 19, 13, 10, 15, 19, 20,\n",
    "10, 25, 14, 15, 12, 22, 7, 28, 16, 9]\n",
    "\n",
    "#Put list into df\n",
    "df = pd.DataFrame(sample, columns=['nums'])"
   ]
  },
  {
   "cell_type": "code",
   "execution_count": 3,
   "metadata": {},
   "outputs": [],
   "source": [
    "#Set bin sizes\n",
    "bins = [5, 9, 13, 17, 21, 25, 29]"
   ]
  },
  {
   "cell_type": "code",
   "execution_count": 4,
   "metadata": {},
   "outputs": [],
   "source": [
    "#Put into dataframe\n",
    "newdf = pd.DataFrame(pd.cut(df['nums'], bins=bins).value_counts()).sort_index()\n",
    "newdf.reset_index(inplace=True)\n",
    "\n",
    "#Convert to String\n",
    "newdf['index'] = newdf['index'].astype(str)"
   ]
  },
  {
   "cell_type": "code",
   "execution_count": 5,
   "metadata": {},
   "outputs": [],
   "source": [
    "#Set 'easy-to-read' names for bins\n",
    "left = newdf['index'].str.split(',').str[0].str.split('(').str[1].astype('int32') + 1\n",
    "right = newdf['index'].str.split(',').str[1].str.split(']').str[0]\n",
    "\n",
    "fullname = left.astype(str) + ' -' + right\n",
    "newdf['index'] = fullname"
   ]
  },
  {
   "cell_type": "code",
   "execution_count": 6,
   "metadata": {},
   "outputs": [],
   "source": [
    "#cummulative frequency\n",
    "newdf['cumfreq'] = newdf['nums'].cumsum()\n",
    "\n",
    "#relative frequency\n",
    "newdf['relfreq'] = newdf['nums'] / newdf['nums'].sum()\n",
    "\n",
    "#cummulative relative frequency\n",
    "newdf['cumrelfreq'] = newdf['relfreq'].cumsum()\n",
    "\n",
    "#Add column names\n",
    "newdf.columns =['Class Interval', 'Frequency', 'Cummulative Frequency', 'Relative Frequency', 'Cumulative Relative Frequency']"
   ]
  },
  {
   "cell_type": "code",
   "execution_count": 7,
   "metadata": {},
   "outputs": [
    {
     "data": {
      "text/html": [
       "<div>\n",
       "<style scoped>\n",
       "    .dataframe tbody tr th:only-of-type {\n",
       "        vertical-align: middle;\n",
       "    }\n",
       "\n",
       "    .dataframe tbody tr th {\n",
       "        vertical-align: top;\n",
       "    }\n",
       "\n",
       "    .dataframe thead th {\n",
       "        text-align: right;\n",
       "    }\n",
       "</style>\n",
       "<table border=\"1\" class=\"dataframe\">\n",
       "  <thead>\n",
       "    <tr style=\"text-align: right;\">\n",
       "      <th></th>\n",
       "      <th>Class Interval</th>\n",
       "      <th>Frequency</th>\n",
       "      <th>Cummulative Frequency</th>\n",
       "      <th>Relative Frequency</th>\n",
       "      <th>Cumulative Relative Frequency</th>\n",
       "    </tr>\n",
       "  </thead>\n",
       "  <tbody>\n",
       "    <tr>\n",
       "      <th>0</th>\n",
       "      <td>6 - 9</td>\n",
       "      <td>4</td>\n",
       "      <td>4</td>\n",
       "      <td>0.100</td>\n",
       "      <td>0.100</td>\n",
       "    </tr>\n",
       "    <tr>\n",
       "      <th>1</th>\n",
       "      <td>10 - 13</td>\n",
       "      <td>11</td>\n",
       "      <td>15</td>\n",
       "      <td>0.275</td>\n",
       "      <td>0.375</td>\n",
       "    </tr>\n",
       "    <tr>\n",
       "      <th>2</th>\n",
       "      <td>14 - 17</td>\n",
       "      <td>15</td>\n",
       "      <td>30</td>\n",
       "      <td>0.375</td>\n",
       "      <td>0.750</td>\n",
       "    </tr>\n",
       "    <tr>\n",
       "      <th>3</th>\n",
       "      <td>18 - 21</td>\n",
       "      <td>3</td>\n",
       "      <td>33</td>\n",
       "      <td>0.075</td>\n",
       "      <td>0.825</td>\n",
       "    </tr>\n",
       "    <tr>\n",
       "      <th>4</th>\n",
       "      <td>22 - 25</td>\n",
       "      <td>5</td>\n",
       "      <td>38</td>\n",
       "      <td>0.125</td>\n",
       "      <td>0.950</td>\n",
       "    </tr>\n",
       "    <tr>\n",
       "      <th>5</th>\n",
       "      <td>26 - 29</td>\n",
       "      <td>2</td>\n",
       "      <td>40</td>\n",
       "      <td>0.050</td>\n",
       "      <td>1.000</td>\n",
       "    </tr>\n",
       "  </tbody>\n",
       "</table>\n",
       "</div>"
      ],
      "text/plain": [
       "  Class Interval  Frequency  Cummulative Frequency  Relative Frequency  \\\n",
       "0          6 - 9          4                      4               0.100   \n",
       "1        10 - 13         11                     15               0.275   \n",
       "2        14 - 17         15                     30               0.375   \n",
       "3        18 - 21          3                     33               0.075   \n",
       "4        22 - 25          5                     38               0.125   \n",
       "5        26 - 29          2                     40               0.050   \n",
       "\n",
       "   Cumulative Relative Frequency  \n",
       "0                          0.100  \n",
       "1                          0.375  \n",
       "2                          0.750  \n",
       "3                          0.825  \n",
       "4                          0.950  \n",
       "5                          1.000  "
      ]
     },
     "execution_count": 7,
     "metadata": {},
     "output_type": "execute_result"
    }
   ],
   "source": [
    "#Show frequency table\n",
    "newdf"
   ]
  },
  {
   "cell_type": "code",
   "execution_count": 8,
   "metadata": {},
   "outputs": [
    {
     "data": {
      "text/plain": [
       "<AxesSubplot:xlabel='Class Interval', ylabel='Frequency'>"
      ]
     },
     "execution_count": 8,
     "metadata": {},
     "output_type": "execute_result"
    },
    {
     "data": {
      "image/png": "[encoded data removed]",
      "text/plain": [
       "<Figure size 432x288 with 1 Axes>"
      ]
     },
     "metadata": {
      "needs_background": "light"
     },
     "output_type": "display_data"
    }
   ],
   "source": [
    "#Plot distribution\n",
    "sns.barplot(x=\"Class Interval\", y=\"Frequency\", data=newdf, color='grey')"
   ]
  },
  {
   "cell_type": "code",
   "execution_count": null,
   "metadata": {},
   "outputs": [],
   "source": []
  }
 ],
 "metadata": {
  "kernelspec": {
   "display_name": "Python 3",
   "language": "python",
   "name": "python3"
  },
  "language_info": {
   "codemirror_mode": {
    "name": "ipython",
    "version": 3
   },
   "file_extension": ".py",
   "mimetype": "text/x-python",
   "name": "python",
   "nbconvert_exporter": "python",
   "pygments_lexer": "ipython3",
   "version": "3.7.9"
  }
 },
 "nbformat": 4,
 "nbformat_minor": 4
}
