{
 "cells": [
  {
   "cell_type": "markdown",
   "metadata": {},
   "source": [
    "### Keras / Tensorflow Classification - Example\n",
    "Here we're going to attempt to utilize Keras/Tensorflow to predict the whether or not an individual has cancer.\n",
    "\n",
    "The data being used can be seen on my github below:\n",
    "\n",
    "https://github.com/kaledev/PythonSnippets/blob/master/Datasets/Keras/cancer_classification.csv"
   ]
  },
  {
   "cell_type": "markdown",
   "metadata": {},
   "source": [
    "#### Data Imports and EDA"
   ]
  },
  {
   "cell_type": "code",
   "execution_count": 1,
   "metadata": {},
   "outputs": [],
   "source": [
    "import pandas as pd\n",
    "import numpy as np\n",
    "import matplotlib.pyplot as plt\n",
    "import seaborn as sns"
   ]
  },
  {
   "cell_type": "code",
   "execution_count": 2,
   "metadata": {},
   "outputs": [],
   "source": [
    "df = pd.read_csv('DATA/cancer_classification.csv')"
   ]
  },
  {
   "cell_type": "markdown",
   "metadata": {},
   "source": [
    "Here we can see the dataset is fairly well balanced in terms of classification of the labels, if the dataset was unbalanced then we might see issues with overfitting."
   ]
  },
  {
   "cell_type": "code",
   "execution_count": 8,
   "metadata": {},
   "outputs": [
    {
     "data": {
      "text/plain": [
       "<AxesSubplot:xlabel='benign_0__mal_1', ylabel='count'>"
      ]
     },
     "execution_count": 8,
     "metadata": {},
     "output_type": "execute_result"
    },
    {
     "data": {
      "image/png": "[encoded data removed]",
      "text/plain": [
       "<Figure size 432x288 with 1 Axes>"
      ]
     },
     "metadata": {
      "needs_background": "light"
     },
     "output_type": "display_data"
    }
   ],
   "source": [
    "sns.countplot(x='benign_0__mal_1',data=df)"
   ]
  },
  {
   "cell_type": "markdown",
   "metadata": {},
   "source": [
    "#### Create Models and Predict"
   ]
  },
  {
   "cell_type": "code",
   "execution_count": 3,
   "metadata": {},
   "outputs": [],
   "source": [
    "#Set X/y\n",
    "X = df.drop('benign_0__mal_1', axis=1).values\n",
    "y = df['benign_0__mal_1'].values"
   ]
  },
  {
   "cell_type": "code",
   "execution_count": 4,
   "metadata": {},
   "outputs": [],
   "source": [
    "from sklearn.model_selection import train_test_split"
   ]
  },
  {
   "cell_type": "code",
   "execution_count": 5,
   "metadata": {},
   "outputs": [],
   "source": [
    "X_train, X_test, y_train, y_test = train_test_split(X, y, test_size=0.25, random_state=42)"
   ]
  },
  {
   "cell_type": "markdown",
   "metadata": {},
   "source": [
    "We need to scale the data so all features are in sync"
   ]
  },
  {
   "cell_type": "code",
   "execution_count": 6,
   "metadata": {},
   "outputs": [],
   "source": [
    "from sklearn.preprocessing import MinMaxScaler"
   ]
  },
  {
   "cell_type": "code",
   "execution_count": 7,
   "metadata": {},
   "outputs": [],
   "source": [
    "scaler = MinMaxScaler()"
   ]
  },
  {
   "cell_type": "code",
   "execution_count": 8,
   "metadata": {},
   "outputs": [],
   "source": [
    "X_train = scaler.fit_transform(X_train)\n",
    "X_test = scaler.transform(X_test) #Do not fit on testing to avoid overfitting/data leakage"
   ]
  },
  {
   "cell_type": "markdown",
   "metadata": {},
   "source": [
    "Now we can create the Neural Network"
   ]
  },
  {
   "cell_type": "code",
   "execution_count": 16,
   "metadata": {},
   "outputs": [],
   "source": [
    "from tensorflow.keras.models import Sequential\n",
    "from tensorflow.keras.layers import Dense,Dropout\n",
    "from tensorflow.keras.callbacks import EarlyStopping"
   ]
  },
  {
   "cell_type": "markdown",
   "metadata": {},
   "source": [
    "We're going to define an early stop here to avoid overfitting and improve accuracy - With Early Stopping, Keras will not run the entirely defined amount of epochs if doing so will cause overfitting."
   ]
  },
  {
   "cell_type": "code",
   "execution_count": 17,
   "metadata": {},
   "outputs": [],
   "source": [
    "early_stop = EarlyStopping(monitor='val_loss',mode='min',verbose=1,patience=25)"
   ]
  },
  {
   "cell_type": "code",
   "execution_count": 18,
   "metadata": {},
   "outputs": [
    {
     "data": {
      "text/plain": [
       "(426, 30)"
      ]
     },
     "execution_count": 18,
     "metadata": {},
     "output_type": "execute_result"
    }
   ],
   "source": [
    "X_train.shape"
   ]
  },
  {
   "cell_type": "markdown",
   "metadata": {},
   "source": [
    "As we see 30 features here, we set the layers to be: <br />\n",
    "Input: 30 <br />\n",
    "Hidden: 15 (half) <br />\n",
    "Output: 1"
   ]
  },
  {
   "cell_type": "code",
   "execution_count": 19,
   "metadata": {},
   "outputs": [],
   "source": [
    "model = Sequential()\n",
    "\n",
    "model.add(Dense(30, activation='relu'))\n",
    "model.add(Dropout(0.5)) #Choose somewhere between 0/1 (1 = 100%) of neurons to turn off\n",
    "\n",
    "model.add(Dense(15, activation='relu'))\n",
    "model.add(Dropout(0.5)) #Choose somewhere between 0/1 (1 = 100%) of neurons to turn off\n",
    "\n",
    "#BINARY CLASSIFICATION MUST BE SIGMOID\n",
    "model.add(Dense(1, activation='sigmoid'))\n",
    "\n",
    "#MUST BE binary_crossentropy\n",
    "model.compile(loss='binary_crossentropy',optimizer='adam')"
   ]
  },
  {
   "cell_type": "code",
   "execution_count": 20,
   "metadata": {},
   "outputs": [
    {
     "name": "stdout",
     "output_type": "stream",
     "text": [
      "Epoch 1/600\n",
      "14/14 [==============================] - 0s 9ms/step - loss: 0.7045 - val_loss: 0.6730\n",
      "Epoch 2/600\n",
      "14/14 [==============================] - 0s 2ms/step - loss: 0.6656 - val_loss: 0.6483\n",
      "Epoch 3/600\n",
      "14/14 [==============================] - 0s 2ms/step - loss: 0.6483 - val_loss: 0.6169\n",
      "Epoch 4/600\n",
      "14/14 [==============================] - 0s 2ms/step - loss: 0.6473 - val_loss: 0.5920\n",
      "Epoch 5/600\n",
      "14/14 [==============================] - 0s 2ms/step - loss: 0.6295 - val_loss: 0.5686\n",
      "Epoch 6/600\n",
      "14/14 [==============================] - 0s 3ms/step - loss: 0.6246 - val_loss: 0.5465\n",
      "Epoch 7/600\n",
      "14/14 [==============================] - 0s 2ms/step - loss: 0.6050 - val_loss: 0.5254\n",
      "Epoch 8/600\n",
      "14/14 [==============================] - 0s 3ms/step - loss: 0.5652 - val_loss: 0.4958\n",
      "Epoch 9/600\n",
      "14/14 [==============================] - 0s 2ms/step - loss: 0.5460 - val_loss: 0.4643\n",
      "Epoch 10/600\n",
      "14/14 [==============================] - 0s 3ms/step - loss: 0.5216 - val_loss: 0.4346\n",
      "Epoch 11/600\n",
      "14/14 [==============================] - 0s 2ms/step - loss: 0.5119 - val_loss: 0.4139\n",
      "Epoch 12/600\n",
      "14/14 [==============================] - 0s 3ms/step - loss: 0.4861 - val_loss: 0.3884\n",
      "Epoch 13/600\n",
      "14/14 [==============================] - 0s 3ms/step - loss: 0.4707 - val_loss: 0.3632\n",
      "Epoch 14/600\n",
      "14/14 [==============================] - 0s 2ms/step - loss: 0.4422 - val_loss: 0.3371\n",
      "Epoch 15/600\n",
      "14/14 [==============================] - 0s 2ms/step - loss: 0.4519 - val_loss: 0.3180\n",
      "Epoch 16/600\n",
      "14/14 [==============================] - 0s 2ms/step - loss: 0.4311 - val_loss: 0.3038\n",
      "Epoch 17/600\n",
      "14/14 [==============================] - 0s 2ms/step - loss: 0.3778 - val_loss: 0.2769\n",
      "Epoch 18/600\n",
      "14/14 [==============================] - 0s 3ms/step - loss: 0.3698 - val_loss: 0.2547\n",
      "Epoch 19/600\n",
      "14/14 [==============================] - 0s 2ms/step - loss: 0.3915 - val_loss: 0.2407\n",
      "Epoch 20/600\n",
      "14/14 [==============================] - 0s 3ms/step - loss: 0.3675 - val_loss: 0.2340\n",
      "Epoch 21/600\n",
      "14/14 [==============================] - 0s 2ms/step - loss: 0.3489 - val_loss: 0.2250\n",
      "Epoch 22/600\n",
      "14/14 [==============================] - 0s 2ms/step - loss: 0.3125 - val_loss: 0.2124\n",
      "Epoch 23/600\n",
      "14/14 [==============================] - 0s 3ms/step - loss: 0.3209 - val_loss: 0.1989\n",
      "Epoch 24/600\n",
      "14/14 [==============================] - 0s 2ms/step - loss: 0.3110 - val_loss: 0.1891\n",
      "Epoch 25/600\n",
      "14/14 [==============================] - 0s 3ms/step - loss: 0.2981 - val_loss: 0.1789\n",
      "Epoch 26/600\n",
      "14/14 [==============================] - 0s 3ms/step - loss: 0.2835 - val_loss: 0.1700\n",
      "Epoch 27/600\n",
      "14/14 [==============================] - 0s 2ms/step - loss: 0.2894 - val_loss: 0.1620\n",
      "Epoch 28/600\n",
      "14/14 [==============================] - 0s 3ms/step - loss: 0.2783 - val_loss: 0.1652\n",
      "Epoch 29/600\n",
      "14/14 [==============================] - 0s 2ms/step - loss: 0.2811 - val_loss: 0.1565\n",
      "Epoch 30/600\n",
      "14/14 [==============================] - 0s 3ms/step - loss: 0.2957 - val_loss: 0.1506\n",
      "Epoch 31/600\n",
      "14/14 [==============================] - 0s 2ms/step - loss: 0.2608 - val_loss: 0.1457\n",
      "Epoch 32/600\n",
      "14/14 [==============================] - 0s 3ms/step - loss: 0.2416 - val_loss: 0.1357\n",
      "Epoch 33/600\n",
      "14/14 [==============================] - 0s 2ms/step - loss: 0.2376 - val_loss: 0.1285\n",
      "Epoch 34/600\n",
      "14/14 [==============================] - 0s 3ms/step - loss: 0.2318 - val_loss: 0.1220\n",
      "Epoch 35/600\n",
      "14/14 [==============================] - 0s 2ms/step - loss: 0.1981 - val_loss: 0.1212\n",
      "Epoch 36/600\n",
      "14/14 [==============================] - 0s 2ms/step - loss: 0.2314 - val_loss: 0.1146\n",
      "Epoch 37/600\n",
      "14/14 [==============================] - 0s 3ms/step - loss: 0.2319 - val_loss: 0.1121\n",
      "Epoch 38/600\n",
      "14/14 [==============================] - 0s 2ms/step - loss: 0.2113 - val_loss: 0.1097\n",
      "Epoch 39/600\n",
      "14/14 [==============================] - 0s 2ms/step - loss: 0.2186 - val_loss: 0.1126\n",
      "Epoch 40/600\n",
      "14/14 [==============================] - 0s 3ms/step - loss: 0.2170 - val_loss: 0.1057\n",
      "Epoch 41/600\n",
      "14/14 [==============================] - 0s 2ms/step - loss: 0.2538 - val_loss: 0.1091\n",
      "Epoch 42/600\n",
      "14/14 [==============================] - 0s 2ms/step - loss: 0.2012 - val_loss: 0.1007\n",
      "Epoch 43/600\n",
      "14/14 [==============================] - 0s 3ms/step - loss: 0.1989 - val_loss: 0.0979\n",
      "Epoch 44/600\n",
      "14/14 [==============================] - 0s 3ms/step - loss: 0.1836 - val_loss: 0.0942\n",
      "Epoch 45/600\n",
      "14/14 [==============================] - 0s 3ms/step - loss: 0.1832 - val_loss: 0.0891\n",
      "Epoch 46/600\n",
      "14/14 [==============================] - 0s 3ms/step - loss: 0.1923 - val_loss: 0.0868\n",
      "Epoch 47/600\n",
      "14/14 [==============================] - 0s 3ms/step - loss: 0.1692 - val_loss: 0.0827\n",
      "Epoch 48/600\n",
      "14/14 [==============================] - 0s 3ms/step - loss: 0.1861 - val_loss: 0.0808\n",
      "Epoch 49/600\n",
      "14/14 [==============================] - 0s 3ms/step - loss: 0.1824 - val_loss: 0.0807\n",
      "Epoch 50/600\n",
      "14/14 [==============================] - 0s 3ms/step - loss: 0.1808 - val_loss: 0.0823\n",
      "Epoch 51/600\n",
      "14/14 [==============================] - 0s 3ms/step - loss: 0.1958 - val_loss: 0.0811\n",
      "Epoch 52/600\n",
      "14/14 [==============================] - 0s 2ms/step - loss: 0.1962 - val_loss: 0.0787\n",
      "Epoch 53/600\n",
      "14/14 [==============================] - 0s 2ms/step - loss: 0.1672 - val_loss: 0.0799\n",
      "Epoch 54/600\n",
      "14/14 [==============================] - 0s 3ms/step - loss: 0.1544 - val_loss: 0.0835\n",
      "Epoch 55/600\n",
      "14/14 [==============================] - 0s 3ms/step - loss: 0.1706 - val_loss: 0.0829\n",
      "Epoch 56/600\n",
      "14/14 [==============================] - 0s 2ms/step - loss: 0.1674 - val_loss: 0.0744\n",
      "Epoch 57/600\n",
      "14/14 [==============================] - 0s 2ms/step - loss: 0.1644 - val_loss: 0.0798\n",
      "Epoch 58/600\n",
      "14/14 [==============================] - 0s 2ms/step - loss: 0.1622 - val_loss: 0.0723\n",
      "Epoch 59/600\n",
      "14/14 [==============================] - 0s 2ms/step - loss: 0.1463 - val_loss: 0.0705\n",
      "Epoch 60/600\n",
      "14/14 [==============================] - 0s 2ms/step - loss: 0.1772 - val_loss: 0.0707\n",
      "Epoch 61/600\n",
      "14/14 [==============================] - 0s 3ms/step - loss: 0.1574 - val_loss: 0.0693\n",
      "Epoch 62/600\n",
      "14/14 [==============================] - 0s 2ms/step - loss: 0.1462 - val_loss: 0.0691\n",
      "Epoch 63/600\n",
      "14/14 [==============================] - 0s 2ms/step - loss: 0.1580 - val_loss: 0.0704\n",
      "Epoch 64/600\n",
      "14/14 [==============================] - 0s 3ms/step - loss: 0.1820 - val_loss: 0.0673\n",
      "Epoch 65/600\n",
      "14/14 [==============================] - 0s 3ms/step - loss: 0.1436 - val_loss: 0.0658\n",
      "Epoch 66/600\n",
      "14/14 [==============================] - 0s 2ms/step - loss: 0.1481 - val_loss: 0.0642\n",
      "Epoch 67/600\n",
      "14/14 [==============================] - 0s 2ms/step - loss: 0.1360 - val_loss: 0.0631\n",
      "Epoch 68/600\n",
      "14/14 [==============================] - 0s 3ms/step - loss: 0.1237 - val_loss: 0.0618\n",
      "Epoch 69/600\n",
      "14/14 [==============================] - 0s 2ms/step - loss: 0.1218 - val_loss: 0.0601\n",
      "Epoch 70/600\n",
      "14/14 [==============================] - 0s 3ms/step - loss: 0.1388 - val_loss: 0.0623\n",
      "Epoch 71/600\n",
      "14/14 [==============================] - 0s 2ms/step - loss: 0.1382 - val_loss: 0.0608\n",
      "Epoch 72/600\n",
      "14/14 [==============================] - 0s 2ms/step - loss: 0.1336 - val_loss: 0.0663\n",
      "Epoch 73/600\n",
      "14/14 [==============================] - 0s 2ms/step - loss: 0.1346 - val_loss: 0.0609\n",
      "Epoch 74/600\n",
      "14/14 [==============================] - 0s 3ms/step - loss: 0.1221 - val_loss: 0.0613\n",
      "Epoch 75/600\n",
      "14/14 [==============================] - 0s 2ms/step - loss: 0.1171 - val_loss: 0.0567\n",
      "Epoch 76/600\n",
      "14/14 [==============================] - 0s 2ms/step - loss: 0.1391 - val_loss: 0.0566\n",
      "Epoch 77/600\n",
      "14/14 [==============================] - 0s 2ms/step - loss: 0.1216 - val_loss: 0.0588\n",
      "Epoch 78/600\n",
      "14/14 [==============================] - 0s 3ms/step - loss: 0.1137 - val_loss: 0.0560\n",
      "Epoch 79/600\n",
      "14/14 [==============================] - 0s 3ms/step - loss: 0.1095 - val_loss: 0.0544\n",
      "Epoch 80/600\n",
      "14/14 [==============================] - 0s 2ms/step - loss: 0.1427 - val_loss: 0.0572\n",
      "Epoch 81/600\n",
      "14/14 [==============================] - 0s 3ms/step - loss: 0.1147 - val_loss: 0.0602\n",
      "Epoch 82/600\n",
      "14/14 [==============================] - 0s 2ms/step - loss: 0.1277 - val_loss: 0.0603\n",
      "Epoch 83/600\n"
     ]
    },
    {
     "name": "stdout",
     "output_type": "stream",
     "text": [
      "14/14 [==============================] - 0s 2ms/step - loss: 0.1323 - val_loss: 0.0599\n",
      "Epoch 84/600\n",
      "14/14 [==============================] - 0s 3ms/step - loss: 0.1356 - val_loss: 0.0641\n",
      "Epoch 85/600\n",
      "14/14 [==============================] - 0s 2ms/step - loss: 0.1213 - val_loss: 0.0590\n",
      "Epoch 86/600\n",
      "14/14 [==============================] - 0s 2ms/step - loss: 0.1173 - val_loss: 0.0612\n",
      "Epoch 87/600\n",
      "14/14 [==============================] - 0s 2ms/step - loss: 0.0989 - val_loss: 0.0616\n",
      "Epoch 88/600\n",
      "14/14 [==============================] - 0s 3ms/step - loss: 0.1065 - val_loss: 0.0561\n",
      "Epoch 89/600\n",
      "14/14 [==============================] - 0s 2ms/step - loss: 0.1050 - val_loss: 0.0561\n",
      "Epoch 90/600\n",
      "14/14 [==============================] - 0s 2ms/step - loss: 0.0926 - val_loss: 0.0546\n",
      "Epoch 91/600\n",
      "14/14 [==============================] - 0s 2ms/step - loss: 0.1026 - val_loss: 0.0528\n",
      "Epoch 92/600\n",
      "14/14 [==============================] - 0s 2ms/step - loss: 0.0964 - val_loss: 0.0529\n",
      "Epoch 93/600\n",
      "14/14 [==============================] - 0s 2ms/step - loss: 0.1038 - val_loss: 0.0531\n",
      "Epoch 94/600\n",
      "14/14 [==============================] - 0s 2ms/step - loss: 0.1103 - val_loss: 0.0534\n",
      "Epoch 95/600\n",
      "14/14 [==============================] - 0s 2ms/step - loss: 0.1035 - val_loss: 0.0571\n",
      "Epoch 96/600\n",
      "14/14 [==============================] - 0s 3ms/step - loss: 0.0824 - val_loss: 0.0559\n",
      "Epoch 97/600\n",
      "14/14 [==============================] - 0s 2ms/step - loss: 0.0837 - val_loss: 0.0522\n",
      "Epoch 98/600\n",
      "14/14 [==============================] - 0s 2ms/step - loss: 0.0986 - val_loss: 0.0497\n",
      "Epoch 99/600\n",
      "14/14 [==============================] - 0s 3ms/step - loss: 0.0918 - val_loss: 0.0506\n",
      "Epoch 100/600\n",
      "14/14 [==============================] - 0s 2ms/step - loss: 0.1132 - val_loss: 0.0547\n",
      "Epoch 101/600\n",
      "14/14 [==============================] - 0s 3ms/step - loss: 0.1061 - val_loss: 0.0517\n",
      "Epoch 102/600\n",
      "14/14 [==============================] - 0s 2ms/step - loss: 0.1070 - val_loss: 0.0532\n",
      "Epoch 103/600\n",
      "14/14 [==============================] - 0s 2ms/step - loss: 0.0981 - val_loss: 0.0569\n",
      "Epoch 104/600\n",
      "14/14 [==============================] - 0s 2ms/step - loss: 0.0892 - val_loss: 0.0522\n",
      "Epoch 105/600\n",
      "14/14 [==============================] - 0s 3ms/step - loss: 0.0986 - val_loss: 0.0511\n",
      "Epoch 106/600\n",
      "14/14 [==============================] - 0s 2ms/step - loss: 0.1027 - val_loss: 0.0546\n",
      "Epoch 107/600\n",
      "14/14 [==============================] - 0s 2ms/step - loss: 0.1025 - val_loss: 0.0577\n",
      "Epoch 108/600\n",
      "14/14 [==============================] - 0s 3ms/step - loss: 0.1133 - val_loss: 0.0546\n",
      "Epoch 109/600\n",
      "14/14 [==============================] - 0s 3ms/step - loss: 0.0764 - val_loss: 0.0540\n",
      "Epoch 110/600\n",
      "14/14 [==============================] - 0s 3ms/step - loss: 0.0834 - val_loss: 0.0544\n",
      "Epoch 111/600\n",
      "14/14 [==============================] - 0s 3ms/step - loss: 0.1042 - val_loss: 0.0596\n",
      "Epoch 112/600\n",
      "14/14 [==============================] - 0s 3ms/step - loss: 0.0918 - val_loss: 0.0533\n",
      "Epoch 113/600\n",
      "14/14 [==============================] - 0s 2ms/step - loss: 0.1039 - val_loss: 0.0528\n",
      "Epoch 114/600\n",
      "14/14 [==============================] - 0s 3ms/step - loss: 0.1057 - val_loss: 0.0548\n",
      "Epoch 115/600\n",
      "14/14 [==============================] - 0s 3ms/step - loss: 0.1065 - val_loss: 0.0569\n",
      "Epoch 116/600\n",
      "14/14 [==============================] - 0s 2ms/step - loss: 0.1062 - val_loss: 0.0557\n",
      "Epoch 117/600\n",
      "14/14 [==============================] - 0s 2ms/step - loss: 0.0893 - val_loss: 0.0575\n",
      "Epoch 118/600\n",
      "14/14 [==============================] - 0s 2ms/step - loss: 0.0823 - val_loss: 0.0584\n",
      "Epoch 119/600\n",
      "14/14 [==============================] - 0s 3ms/step - loss: 0.0842 - val_loss: 0.0543\n",
      "Epoch 120/600\n",
      "14/14 [==============================] - 0s 2ms/step - loss: 0.0848 - val_loss: 0.0528\n",
      "Epoch 121/600\n",
      "14/14 [==============================] - 0s 3ms/step - loss: 0.0993 - val_loss: 0.0546\n",
      "Epoch 122/600\n",
      "14/14 [==============================] - 0s 3ms/step - loss: 0.0912 - val_loss: 0.0509\n",
      "Epoch 123/600\n",
      "14/14 [==============================] - 0s 3ms/step - loss: 0.0918 - val_loss: 0.0498\n",
      "Epoch 00123: early stopping\n"
     ]
    },
    {
     "data": {
      "text/plain": [
       "<tensorflow.python.keras.callbacks.History at 0x2078a024208>"
      ]
     },
     "execution_count": 20,
     "metadata": {},
     "output_type": "execute_result"
    }
   ],
   "source": [
    "model.fit(x=X_train,y=y_train,epochs=600,validation_data=(X_test,y_test),\n",
    "         callbacks=[early_stop])"
   ]
  },
  {
   "cell_type": "code",
   "execution_count": 21,
   "metadata": {},
   "outputs": [],
   "source": [
    "loss_df = pd.DataFrame(model.history.history)"
   ]
  },
  {
   "cell_type": "code",
   "execution_count": 22,
   "metadata": {},
   "outputs": [
    {
     "data": {
      "text/plain": [
       "<AxesSubplot:>"
      ]
     },
     "execution_count": 22,
     "metadata": {},
     "output_type": "execute_result"
    },
    {
     "data": {
      "image/png": "[encoded data removed]",
      "text/plain": [
       "<Figure size 432x288 with 1 Axes>"
      ]
     },
     "metadata": {
      "needs_background": "light"
     },
     "output_type": "display_data"
    }
   ],
   "source": [
    "loss_df.plot()"
   ]
  },
  {
   "cell_type": "code",
   "execution_count": 27,
   "metadata": {},
   "outputs": [],
   "source": [
    "predictions = model.predict_classes(X_test)"
   ]
  },
  {
   "cell_type": "code",
   "execution_count": 28,
   "metadata": {},
   "outputs": [],
   "source": [
    "from sklearn.metrics import classification_report, confusion_matrix"
   ]
  },
  {
   "cell_type": "code",
   "execution_count": 29,
   "metadata": {},
   "outputs": [
    {
     "name": "stdout",
     "output_type": "stream",
     "text": [
      "              precision    recall  f1-score   support\n",
      "\n",
      "           0       0.98      0.98      0.98        54\n",
      "           1       0.99      0.99      0.99        89\n",
      "\n",
      "    accuracy                           0.99       143\n",
      "   macro avg       0.99      0.99      0.99       143\n",
      "weighted avg       0.99      0.99      0.99       143\n",
      "\n"
     ]
    }
   ],
   "source": [
    "print(classification_report(y_test, predictions))"
   ]
  },
  {
   "cell_type": "code",
   "execution_count": 30,
   "metadata": {},
   "outputs": [
    {
     "name": "stdout",
     "output_type": "stream",
     "text": [
      "[[53  1]\n",
      " [ 1 88]]\n"
     ]
    }
   ],
   "source": [
    "print(confusion_matrix(y_test, predictions))"
   ]
  },
  {
   "cell_type": "markdown",
   "metadata": {},
   "source": [
    "You can see we came out with great results from this model with only 2 incorrectly diagnosed"
   ]
  }
 ],
 "metadata": {
  "kernelspec": {
   "display_name": "Python 3",
   "language": "python",
   "name": "python3"
  },
  "language_info": {
   "codemirror_mode": {
    "name": "ipython",
    "version": 3
   },
   "file_extension": ".py",
   "mimetype": "text/x-python",
   "name": "python",
   "nbconvert_exporter": "python",
   "pygments_lexer": "ipython3",
   "version": "3.7.9"
  }
 },
 "nbformat": 4,
 "nbformat_minor": 4
}
